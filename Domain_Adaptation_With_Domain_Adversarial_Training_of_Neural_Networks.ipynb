{
 "cells": [
  {
   "cell_type": "markdown",
   "metadata": {
    "id": "5NfOUGj4lpc7"
   },
   "source": [
    "# **Domain Adaptation With Domain-Adversarial Training of Neural Networks**"
   ]
  },
  {
   "cell_type": "markdown",
   "metadata": {
    "id": "bn6rOS6Yls4f"
   },
   "source": [
    "## **Important Libraries**"
   ]
  },
  {
   "cell_type": "markdown",
   "metadata": {
    "id": "vKzqAlqRmjJB"
   },
   "source": [
    "### **Install**"
   ]
  },
  {
   "cell_type": "code",
   "execution_count": 1,
   "metadata": {
    "colab": {
     "base_uri": "https://localhost:8080/"
    },
    "id": "6XmVFs2dlfO7",
    "outputId": "607c3be8-cfd9-4c10-b369-7f88ca713aa3"
   },
   "outputs": [],
   "source": [
    "!pip install -q --no-cache-dir lightning torchmetrics"
   ]
  },
  {
   "cell_type": "markdown",
   "metadata": {
    "id": "8KYLw9Avltiv"
   },
   "source": [
    "### **Import**"
   ]
  },
  {
   "cell_type": "code",
   "execution_count": 2,
   "metadata": {
    "id": "1kC01U94ltom"
   },
   "outputs": [],
   "source": [
    "try:\n",
    "    import lightning as L\n",
    "except:\n",
    "    import lightning as L\n",
    "\n",
    "from lightning.pytorch import Trainer, seed_everything\n",
    "from lightning.pytorch.callbacks import ModelCheckpoint\n",
    "from lightning.pytorch.callbacks.early_stopping import EarlyStopping\n",
    "\n",
    "from torchmetrics.classification import Accuracy\n",
    "\n",
    "import torch\n",
    "import torch.nn as nn\n",
    "import torch.optim as optim\n",
    "import torch.nn.functional as F\n",
    "import torch.utils.data as data\n",
    "\n",
    "from torch.autograd import Function\n",
    "\n",
    "from torchvision.transforms.v2 import (\n",
    "    Compose,\n",
    "    ToTensor,\n",
    "    Resize,\n",
    "    Lambda,\n",
    "    RandomInvert,\n",
    "    RandomAffine,\n",
    "    RandomChannelPermutation,\n",
    "    RandomPhotometricDistort,\n",
    "    Normalize,\n",
    "    RandomApply,\n",
    ")\n",
    "from torchvision.datasets import SVHN, VisionDataset\n",
    "from torchvision.datasets.utils import (\n",
    "    _flip_byte_order,\n",
    "    check_integrity,\n",
    "    download_url,\n",
    "    download_and_extract_archive,\n",
    ")\n",
    "from torchvision.models import (\n",
    "    regnet_y_400mf,\n",
    "    RegNet_Y_400MF_Weights,\n",
    ")\n",
    "\n",
    "from urllib.error import URLError\n",
    "\n",
    "import numpy as np\n",
    "import matplotlib.pyplot as plt\n",
    "import scipy.io as sio\n",
    "\n",
    "from PIL import Image\n",
    "\n",
    "from functools import partial\n",
    "\n",
    "import codecs\n",
    "\n",
    "import os\n",
    "import sys\n",
    "import math\n",
    "import copy\n",
    "import time\n",
    "import random\n",
    "import warnings\n",
    "\n",
    "warnings.filterwarnings(\"ignore\")\n",
    "\n",
    "%matplotlib inline\n",
    "plt.rcParams['axes.facecolor'] = 'lightgray'\n",
    "plt.rcParams['mathtext.fontset'] = 'cm'\n",
    "plt.rcParams['font.family'] = 'STIXGeneral'"
   ]
  },
  {
   "cell_type": "markdown",
   "metadata": {
    "id": "0UGg5It9lt-1"
   },
   "source": [
    "## **Configuration**"
   ]
  },
  {
   "cell_type": "code",
   "execution_count": 3,
   "metadata": {
    "id": "M5W27BZDvU6a"
   },
   "outputs": [],
   "source": [
    "IMAGE_SIZE = 32\n",
    "BATCH_SIZE = 100\n",
    "EPOCH = 50\n",
    "NUM_CLASSES = 10\n",
    "LEARNING_RATE = 1e-3\n",
    "BASE_LR_SCALE = 1e-4\n",
    "EARLY_STOPPING_PATIENCE = 5"
   ]
  },
  {
   "cell_type": "code",
   "execution_count": 4,
   "metadata": {
    "id": "2fL_84OQBFhb"
   },
   "outputs": [],
   "source": [
    "METRIC_TO_MONITOR = \"val_acc\"\n",
    "METRIC_MODE = \"max\""
   ]
  },
  {
   "cell_type": "code",
   "execution_count": 5,
   "metadata": {
    "id": "lb41D7ASluCe"
   },
   "outputs": [],
   "source": [
    "os.makedirs(\"experiment\", exist_ok=True)\n",
    "os.makedirs(\"experiment/training\", exist_ok=True)\n",
    "os.makedirs(\"experiment/dataset\", exist_ok=True)\n",
    "os.makedirs(\"experiment/model\", exist_ok=True)\n",
    "EXPERIMENT_DIR = \"experiment/\""
   ]
  },
  {
   "cell_type": "code",
   "execution_count": 6,
   "metadata": {
    "colab": {
     "base_uri": "https://localhost:8080/"
    },
    "id": "8J3vt-eCnt2Z",
    "outputId": "9b879fb8-9ff8-4a92-c2ac-d6775549fb1e"
   },
   "outputs": [
    {
     "name": "stdout",
     "output_type": "stream",
     "text": [
      "Random seed: 1387014629\n"
     ]
    }
   ],
   "source": [
    "SEED = int(np.random.randint(2147483647))\n",
    "print(f\"Random seed: {SEED}\")"
   ]
  },
  {
   "cell_type": "markdown",
   "metadata": {
    "id": "vGe2laAvluJs"
   },
   "source": [
    "## **Dataset**"
   ]
  },
  {
   "cell_type": "markdown",
   "metadata": {
    "id": "DfSTO7GrqL-E"
   },
   "source": [
    "### **Utils**"
   ]
  },
  {
   "cell_type": "markdown",
   "metadata": {},
   "source": [
    "### Change Note (near Cell 15)\n",
    "- Added ImageNet normalization to both `TRANSFORM` and `TRANSFORM_AUGMENTATION` using `Normalize(mean=(0.485,0.456,0.406), std=(0.229,0.224,0.225))`.\n",
    "- Removed the previous `Lambda` scaling to `[-1, 1]`.\n",
    "- Moderated source augmentations (affine/color) to reduce distribution shift collapse when using a pretrained backbone."
   ]
  },
  {
   "cell_type": "markdown",
   "metadata": {},
   "source": [
    "- Fixed transform error: wrapped `RandomChannelPermutation()` with `RandomApply(p=0.05)` since it doesn’t accept `p` directly."
   ]
  },
  {
   "cell_type": "code",
   "execution_count": 7,
   "metadata": {
    "id": "P2j0gu33cWXW"
   },
   "outputs": [],
   "source": [
    "# ImageNet normalization expected by pretrained RegNet\n",
    "IMAGENET_MEAN = (0.485, 0.456, 0.406)\n",
    "IMAGENET_STD = (0.229, 0.224, 0.225)\n",
    "\n",
    "TRANSFORM = Compose(\n",
    "    [\n",
    "        Resize((IMAGE_SIZE, IMAGE_SIZE)),\n",
    "        ToTensor(),\n",
    "        Normalize(mean=IMAGENET_MEAN, std=IMAGENET_STD),\n",
    "    ]\n",
    ")\n",
    "TRANSFORM_AUGMENTATION = Compose(\n",
    "    [\n",
    "        RandomAffine(\n",
    "            degrees=30.0,\n",
    "            translate=(0.05, 0.05),\n",
    "            scale=(0.9, 1.1),\n",
    "            shear=5.0,\n",
    "        ),\n",
    "        # Keep color perturbations lighter to avoid collapse\n",
    "        RandomInvert(p=0.05),\n",
    "        RandomPhotometricDistort(p=0.3),\n",
    "        Resize((IMAGE_SIZE, IMAGE_SIZE)),\n",
    "        RandomApply([RandomChannelPermutation()], p=0.05),\n",
    "        ToTensor(),\n",
    "        Normalize(mean=IMAGENET_MEAN, std=IMAGENET_STD),\n",
    "    ]\n",
    ")"
   ]
  },
  {
   "cell_type": "code",
   "execution_count": 8,
   "metadata": {
    "id": "s___IkrrAUCN"
   },
   "outputs": [],
   "source": [
    "def get_int(b: bytes) -> int:\n",
    "    return int(codecs.encode(b, \"hex\"), 16)"
   ]
  },
  {
   "cell_type": "code",
   "execution_count": 9,
   "metadata": {
    "id": "bgrvkO1HAE_A"
   },
   "outputs": [],
   "source": [
    "SN3_PASCALVINCENT_TYPEMAP = {\n",
    "    8: torch.uint8,\n",
    "    9: torch.int8,\n",
    "    11: torch.int16,\n",
    "    12: torch.int32,\n",
    "    13: torch.float32,\n",
    "    14: torch.float64,\n",
    "}"
   ]
  },
  {
   "cell_type": "code",
   "execution_count": 10,
   "metadata": {
    "id": "6HtU9ASo_i4e"
   },
   "outputs": [],
   "source": [
    "def read_sn3_pascalvincent_tensor(\n",
    "    path: str,\n",
    "    strict: bool = True,\n",
    ") -> torch.Tensor:\n",
    "    \"\"\"Read a SN3 file in \"Pascal Vincent\" format\n",
    "    (Lush file 'libidx/idx-io.lsh'). Argument may be a filename,\n",
    "    compressed filename, or file object.\n",
    "    \"\"\"\n",
    "    # read\n",
    "    with open(path, \"rb\") as f:\n",
    "        data = f.read()\n",
    "\n",
    "    # parse\n",
    "    if sys.byteorder == \"little\":\n",
    "        magic = get_int(data[0:4])\n",
    "        nd = magic % 256\n",
    "        ty = magic // 256\n",
    "    else:\n",
    "        nd = get_int(data[0:1])\n",
    "        ty = (\n",
    "            get_int(data[1:2])\n",
    "            + get_int(data[2:3]) * 256\n",
    "            + get_int(data[3:4]) * 256 * 256\n",
    "        )\n",
    "\n",
    "    assert 1 <= nd <= 3\n",
    "    assert 8 <= ty <= 14\n",
    "    torch_type = SN3_PASCALVINCENT_TYPEMAP[ty]\n",
    "    s = [get_int(data[4 * (i + 1) : 4 * (i + 2)]) for i in range(nd)]\n",
    "\n",
    "    if sys.byteorder == \"big\":\n",
    "        for i in range(len(s)):\n",
    "            s[i] = int.from_bytes(\n",
    "                s[i].to_bytes(4, byteorder=\"little\"),\n",
    "                byteorder=\"big\",\n",
    "                signed=False,\n",
    "            )\n",
    "\n",
    "    parsed = torch.frombuffer(bytearray(data), dtype=torch_type, offset=(4 * (nd + 1)))\n",
    "\n",
    "    # The MNIST format uses the big endian byte order, while `torch.frombuffer`\n",
    "    # uses whatever the system uses. In case that is little endian and the dtype\n",
    "    # has more than one byte, we need to flip them.\n",
    "    if sys.byteorder == \"little\" and parsed.element_size() > 1:\n",
    "        parsed = _flip_byte_order(parsed)\n",
    "\n",
    "    assert parsed.shape[0] == np.prod(s) or not strict\n",
    "    return parsed.view(*s)"
   ]
  },
  {
   "cell_type": "code",
   "execution_count": 11,
   "metadata": {
    "id": "iNZwjP9K_aDM"
   },
   "outputs": [],
   "source": [
    "def read_image_file(path: str) -> torch.Tensor:\n",
    "    x = read_sn3_pascalvincent_tensor(path, strict=False)\n",
    "    if x.dtype != torch.uint8:\n",
    "        raise TypeError(f\"x should be of dtype torch.uint8 instead of {x.dtype}\")\n",
    "    if x.ndimension() != 3:\n",
    "        raise ValueError(f\"x should have 3 dimension instead of {x.ndimension()}\")\n",
    "    return x"
   ]
  },
  {
   "cell_type": "code",
   "execution_count": 12,
   "metadata": {
    "id": "RDv3YveeAavO"
   },
   "outputs": [],
   "source": [
    "def read_label_file(path: str) -> torch.Tensor:\n",
    "    x = read_sn3_pascalvincent_tensor(path, strict=False)\n",
    "    if x.dtype != torch.uint8:\n",
    "        raise TypeError(f\"x should be of dtype torch.uint8 instead of {x.dtype}\")\n",
    "    if x.ndimension() != 1:\n",
    "        raise ValueError(f\"x should have 1 dimension instead of {x.ndimension()}\")\n",
    "    return x.long()"
   ]
  },
  {
   "cell_type": "code",
   "execution_count": 13,
   "metadata": {
    "id": "OVPo0_HD0jMV"
   },
   "outputs": [],
   "source": [
    "class DomainAdaptationDataset(VisionDataset):\n",
    "    mirrors = [\n",
    "        \"http://yann.lecun.com/exdb/mnist/\",\n",
    "        \"https://ossci-datasets.s3.amazonaws.com/mnist/\",\n",
    "    ]\n",
    "\n",
    "    resources = [\n",
    "        (\"train-images-idx3-ubyte.gz\", \"f68b3c2dcbeaaa9fbdd348bbdeb94873\"),\n",
    "        (\"train-labels-idx1-ubyte.gz\", \"d53e105ee54ea40749a09fcbcd1e9432\"),\n",
    "    ]\n",
    "\n",
    "    split_list = [\n",
    "        \"http://ufldl.stanford.edu/housenumbers/train_32x32.mat\",\n",
    "        \"train_32x32.mat\",\n",
    "        \"e26dedcc434d2e4c54c9b2d4a06d8373\",\n",
    "    ]\n",
    "\n",
    "    def __init__(self, root: str) -> None:\n",
    "        super().__init__(root)\n",
    "\n",
    "        self.url = self.split_list[0]\n",
    "        self.filename = self.split_list[1]\n",
    "        self.file_md5 = self.split_list[2]\n",
    "\n",
    "        self.download_mnist()\n",
    "        self.download_svhn()\n",
    "\n",
    "        if not self._check_exists_mnist and not self._check_integrity_svhn:\n",
    "            raise RuntimeError(\n",
    "                \"Dataset not found. You can use download=True to download it\"\n",
    "            )\n",
    "\n",
    "        self.data_mnist, self.labels_mnist = self._load_data_mnist()\n",
    "\n",
    "        loaded_mat = sio.loadmat(os.path.join(self.root, self.filename))\n",
    "        self.data_svhn = np.transpose(loaded_mat[\"X\"], (3, 2, 0, 1))\n",
    "\n",
    "    def _load_data_mnist(self):\n",
    "        image_file = f\"train-images-idx3-ubyte\"\n",
    "        data = read_image_file(os.path.join(self.raw_folder, image_file))\n",
    "\n",
    "        label_file = f\"train-labels-idx1-ubyte\"\n",
    "        targets = read_label_file(os.path.join(self.raw_folder, label_file))\n",
    "\n",
    "        return data, targets\n",
    "\n",
    "    def __getitem__(self, index: int):\n",
    "        index_mnist = (\n",
    "            index % len(self.data_mnist)\n",
    "            if index > (len(self.data_mnist) - 1)\n",
    "            else index\n",
    "        )\n",
    "        img_mnist = self.data_mnist[index_mnist]\n",
    "        img_svhn = self.data_svhn[index]\n",
    "\n",
    "        label_mnist = int(self.labels_mnist[index_mnist])\n",
    "\n",
    "        img_mnist = Image.fromarray(img_mnist.numpy(), mode=\"L\").convert(\"RGB\")\n",
    "        img_svhn = Image.fromarray(np.transpose(img_svhn, (1, 2, 0)))\n",
    "\n",
    "        img_mnist = TRANSFORM_AUGMENTATION(img_mnist)\n",
    "        img_svhn = TRANSFORM(img_svhn)\n",
    "\n",
    "        return img_mnist, img_svhn, label_mnist\n",
    "\n",
    "    def __len__(self) -> int:\n",
    "        return len(self.data_svhn)\n",
    "\n",
    "    @property\n",
    "    def raw_folder(self) -> str:\n",
    "        return os.path.join(self.root, self.__class__.__name__, \"raw\")\n",
    "\n",
    "    @property\n",
    "    def processed_folder(self) -> str:\n",
    "        return os.path.join(self.root, self.__class__.__name__, \"processed\")\n",
    "\n",
    "    @property\n",
    "    def _check_exists_mnist(self) -> bool:\n",
    "        return all(\n",
    "            check_integrity(\n",
    "                os.path.join(\n",
    "                    self.raw_folder, os.path.splitext(os.path.basename(url))[0]\n",
    "                )\n",
    "            )\n",
    "            for url, _ in self.resources\n",
    "        )\n",
    "\n",
    "    @property\n",
    "    def _check_integrity_svhn(self) -> bool:\n",
    "        return check_integrity(\n",
    "            os.path.join(self.root, self.filename),\n",
    "            self.file_md5,\n",
    "        )\n",
    "\n",
    "    def download_svhn(self) -> None:\n",
    "        if self._check_integrity_svhn:\n",
    "            return\n",
    "\n",
    "        download_url(self.url, self.root, self.filename, self.file_md5)\n",
    "\n",
    "    def download_mnist(self) -> None:\n",
    "        \"\"\"Download the MNIST data if it doesn't exist already.\"\"\"\n",
    "\n",
    "        if self._check_exists_mnist:\n",
    "            return\n",
    "\n",
    "        os.makedirs(self.raw_folder, exist_ok=True)\n",
    "\n",
    "        # download files\n",
    "        for filename, md5 in self.resources:\n",
    "            for mirror in self.mirrors:\n",
    "                url = f\"{mirror}{filename}\"\n",
    "                try:\n",
    "                    print(f\"Downloading {url}\")\n",
    "                    download_and_extract_archive(\n",
    "                        url,\n",
    "                        download_root=self.raw_folder,\n",
    "                        filename=filename,\n",
    "                        md5=md5,\n",
    "                    )\n",
    "                except URLError as error:\n",
    "                    print(f\"Failed to download (trying next):\\n{error}\")\n",
    "                    continue\n",
    "                finally:\n",
    "                    print()\n",
    "                break\n",
    "            else:\n",
    "                raise RuntimeError(f\"Error downloading {filename}\")"
   ]
  },
  {
   "cell_type": "markdown",
   "metadata": {
    "id": "v72HiXPUlqMX"
   },
   "source": [
    "### **Load**"
   ]
  },
  {
   "cell_type": "code",
   "execution_count": 14,
   "metadata": {
    "colab": {
     "base_uri": "https://localhost:8080/"
    },
    "id": "h8lBAk5wlqSd",
    "outputId": "2f386b7c-ce87-4805-8c0c-acf4782c07ef"
   },
   "outputs": [
    {
     "name": "stdout",
     "output_type": "stream",
     "text": [
      "Using downloaded and verified file: experiment/dataset/test_32x32.mat\n"
     ]
    }
   ],
   "source": [
    "TrainDataset = DomainAdaptationDataset(root=\"experiment/dataset\")\n",
    "ValDataset = SVHN(\n",
    "    root=\"experiment/dataset\",\n",
    "    split=\"test\",\n",
    "    transform=TRANSFORM,\n",
    "    download=True,\n",
    ")\n",
    "TestDataset = ValDataset"
   ]
  },
  {
   "cell_type": "markdown",
   "metadata": {
    "id": "FMljZV18VuJB"
   },
   "source": [
    "## **Utils**"
   ]
  },
  {
   "cell_type": "code",
   "execution_count": 15,
   "metadata": {
    "id": "W77g0UBoVuRl"
   },
   "outputs": [],
   "source": [
    "class AvgMeter(object):\n",
    "    def __init__(self):\n",
    "        self.reset()\n",
    "\n",
    "    def reset(self):\n",
    "        self.scores = list()\n",
    "\n",
    "    def update(self, val):\n",
    "        self.scores.append(val)\n",
    "\n",
    "    def show(self):\n",
    "        scores = torch.stack(self.scores)\n",
    "        return torch.mean(scores)"
   ]
  },
  {
   "cell_type": "markdown",
   "metadata": {
    "id": "Ow0UIr5wlqV0"
   },
   "source": [
    "## **Model**"
   ]
  },
  {
   "cell_type": "code",
   "execution_count": 16,
   "metadata": {
    "id": "sXjmxDRssDaM"
   },
   "outputs": [],
   "source": [
    "class GradientReversalLayer(Function):\n",
    "    @staticmethod\n",
    "    def forward(ctx, x, lambda_):\n",
    "        ctx.lambda_ = lambda_\n",
    "        return x.view_as(x)\n",
    "\n",
    "    @staticmethod\n",
    "    def backward(ctx, grad_output):\n",
    "        output = grad_output.neg() * ctx.lambda_\n",
    "        return output, None"
   ]
  },
  {
   "cell_type": "markdown",
   "metadata": {},
   "source": [
    "### Change Note (near Cell 25)\n",
    "- Updated `GradientReversalLayer` to accept a `lambda_` parameter and scale gradients by `-lambda_` during backpropagation. This enables the classic DANN scheduling of the GRL strength."
   ]
  },
  {
   "cell_type": "code",
   "execution_count": null,
   "metadata": {
    "id": "vxgV3dRKpezq"
   },
   "outputs": [],
   "source": [
    "class DANN(L.LightningModule):\n",
    "    def __init__(self):\n",
    "        super().__init__()\n",
    "\n",
    "        self.batch_size = BATCH_SIZE\n",
    "        self.max_epoch = EPOCH\n",
    "        self.lr = LEARNING_RATE\n",
    "        self.lr_now = self.lr * 1e3\n",
    "\n",
    "        self.backbone = regnet_y_400mf(\n",
    "            weights=RegNet_Y_400MF_Weights.DEFAULT,\n",
    "        )\n",
    "        # Infer pooled feature dimension from backbone\n",
    "        feat_dim = self.backbone.fc.in_features\n",
    "        self.backbone.fc = nn.Sequential(\n",
    "            nn.Linear(feat_dim, 110, bias=False),\n",
    "            nn.BatchNorm1d(110),\n",
    "            nn.ReLU(True),\n",
    "            nn.Dropout(p=0.4),\n",
    "            nn.Linear(110, 110, bias=False),\n",
    "            nn.BatchNorm1d(110),\n",
    "            nn.ReLU(True),\n",
    "            nn.Dropout(p=0.4),\n",
    "            nn.Linear(110, 10),\n",
    "        )\n",
    "\n",
    "        self.domain_classifier = nn.Sequential(\n",
    "            nn.Linear(feat_dim, 110, bias=False),\n",
    "            nn.BatchNorm1d(110),\n",
    "            nn.ReLU(True),\n",
    "            nn.Dropout(p=0.4),\n",
    "            nn.Linear(110, 2),\n",
    "        )\n",
    "\n",
    "        self.automatic_optimization = False\n",
    "\n",
    "        self.train_accuracy = Accuracy(\n",
    "            task=\"multiclass\",\n",
    "            num_classes=NUM_CLASSES,\n",
    "        )\n",
    "\n",
    "        self.val_accuracy = Accuracy(\n",
    "            task=\"multiclass\",\n",
    "            num_classes=NUM_CLASSES,\n",
    "        )\n",
    "\n",
    "        self.test_accuracy = Accuracy(\n",
    "            task=\"multiclass\",\n",
    "            num_classes=NUM_CLASSES,\n",
    "        )\n",
    "\n",
    "        self.train_loss = list()\n",
    "        self.val_loss = list()\n",
    "\n",
    "        self.train_acc = list()\n",
    "        self.val_acc = list()\n",
    "\n",
    "        self.train_loss_recorder = AvgMeter()\n",
    "        self.val_loss_recorder = AvgMeter()\n",
    "\n",
    "        self.train_acc_recorder = AvgMeter()\n",
    "        self.val_acc_recorder = AvgMeter()\n",
    "\n",
    "        self.sanity_check_counter = 1\n",
    "\n",
    "        # Track global progress for GRL schedule\n",
    "        self.total_train_steps = None\n",
    "        self.current_train_step = 0\n",
    "\n",
    "    def forward(self, x, grl_lambda: float = 1.0):\n",
    "        x = self.backbone.stem(x)\n",
    "        x = self.backbone.trunk_output(x)\n",
    "\n",
    "        x = self.backbone.avgpool(x)\n",
    "        x = x.flatten(start_dim=1)\n",
    "\n",
    "        x_class = self.backbone.fc(x)\n",
    "\n",
    "        if not self.training:\n",
    "            return x_class\n",
    "\n",
    "        # Use GRL with factor 1.0; weight domain losses externally\n",
    "        x_reverse = GradientReversalLayer.apply(x, 1.0)\n",
    "        x_domain = self.domain_classifier(x_reverse)\n",
    "\n",
    "        return x_class, x_domain\n",
    "\n",
    "    def _compute_grl_lambda(self):\n",
    "        # DANN schedule: lambda(p) = 2/(1+exp(-10p)) - 1\n",
    "        # p in [0,1] is overall training progress\n",
    "        if self.total_train_steps is None or self.total_train_steps == 0:\n",
    "            return 1.0\n",
    "        p = min(1.0, max(0.0, self.current_train_step / float(self.total_train_steps)))\n",
    "        return 2.0 / (1.0 + math.exp(-10.0 * p)) - 1.0\n",
    "\n",
    "    def on_fit_start(self):\n",
    "        # compute total steps once dataloaders are set\n",
    "        train_loader = self.train_dataloader()\n",
    "        steps_per_epoch = math.ceil(\n",
    "            len(train_loader.dataset) / float(train_loader.batch_size)\n",
    "        )\n",
    "        self.total_train_steps = steps_per_epoch * self.max_epoch\n",
    "        self.current_train_step = 0\n",
    "\n",
    "    def training_step(self, batch, batch_nb):\n",
    "        source_images, target_images, source_labels = batch\n",
    "\n",
    "        source_labels = source_labels.view(source_labels.shape[0])\n",
    "\n",
    "        lambda_grl = self._compute_grl_lambda()\n",
    "\n",
    "        class_predictions, domain_predictions = self(source_images, grl_lambda=1.0)\n",
    "\n",
    "        self.train_accuracy.update(class_predictions.softmax(1), source_labels)\n",
    "        acc = self.train_accuracy.compute().data.cpu()\n",
    "\n",
    "        domain_labels = torch.zeros(source_images.size(0)).long().to(self.device)\n",
    "\n",
    "        class_loss = F.cross_entropy(class_predictions, source_labels)\n",
    "        source_domain_loss = F.cross_entropy(domain_predictions, domain_labels)\n",
    "\n",
    "        domain_labels = torch.ones(source_images.size(0)).long().to(self.device)\n",
    "\n",
    "        _, domain_predictions = self(target_images, grl_lambda=1.0)\n",
    "        target_domain_loss = F.cross_entropy(domain_predictions, domain_labels)\n",
    "\n",
    "        opt = self.optimizers()\n",
    "        opt.zero_grad()\n",
    "        # Weight domain losses by lambda per DANN update rules\n",
    "        loss = class_loss + lambda_grl * (source_domain_loss + target_domain_loss)\n",
    "        self.manual_backward(loss)\n",
    "        opt.step()\n",
    "\n",
    "        self.log(\"train_loss\", loss, prog_bar=True)\n",
    "        self.log(\"train_acc\", acc, prog_bar=True)\n",
    "\n",
    "        self.train_loss_recorder.update(loss.detach())\n",
    "        self.train_acc_recorder.update(acc)\n",
    "\n",
    "        sch = self.lr_schedulers()\n",
    "        sch.step()\n",
    "\n",
    "        # increment global step counter for GRL schedule\n",
    "        self.current_train_step += 1\n",
    "\n",
    "    def on_train_epoch_end(self):\n",
    "        self.train_loss.append(self.train_loss_recorder.show().data.cpu().numpy())\n",
    "        self.train_loss_recorder = AvgMeter()\n",
    "\n",
    "        self.train_acc.append(self.train_acc_recorder.show().data.cpu().numpy())\n",
    "        self.train_acc_recorder = AvgMeter()\n",
    "\n",
    "        # reset epoch metrics\n",
    "        self.train_accuracy.reset()\n",
    "\n",
    "    def validation_step(self, batch, batch_nb):\n",
    "        x, y = batch\n",
    "        y_hat = self(x)\n",
    "        y = y.view(y.shape[0])\n",
    "        loss = F.cross_entropy(y_hat, y)\n",
    "\n",
    "        if self.sanity_check_counter == 0:\n",
    "            self.val_accuracy.update(y_hat.softmax(1), y)\n",
    "            acc = self.val_accuracy.compute().data.cpu()\n",
    "\n",
    "            self.log(\"val_loss\", loss, prog_bar=True)\n",
    "            self.log(\"val_acc\", acc, prog_bar=True)\n",
    "\n",
    "            self.val_loss_recorder.update(loss.detach())\n",
    "            self.val_acc_recorder.update(acc)\n",
    "\n",
    "    def on_validation_epoch_end(self):\n",
    "        if self.sanity_check_counter == 0:\n",
    "            self.val_loss.append(self.val_loss_recorder.show().data.cpu().numpy())\n",
    "            self.val_loss_recorder = AvgMeter()\n",
    "            acc = self.val_acc_recorder.show().data.cpu().numpy()\n",
    "            lr_now_ = self.optimizers().param_groups[0][\"lr\"]\n",
    "            if self.lr_now != lr_now_:\n",
    "                self.lr_now = lr_now_\n",
    "                report_str = f\"[{MODEL_NAME}] Learning Rate Changed:\"\n",
    "                report_str += f\" {lr_now_} - Epoch: {self.current_epoch}\"\n",
    "                print(report_str)\n",
    "            self.val_acc.append(acc)\n",
    "            self.val_acc_recorder = AvgMeter()\n",
    "            # reset epoch metrics\n",
    "            self.val_accuracy.reset()\n",
    "        else:\n",
    "            self.sanity_check_counter -= 1\n",
    "\n",
    "    def test_step(self, batch, batch_nb):\n",
    "        x, y = batch\n",
    "        y_hat = self(x)\n",
    "        y = y.view(y.shape[0])\n",
    "        loss = F.cross_entropy(y_hat, y)\n",
    "        self.test_accuracy.update(y_hat.softmax(1), y)\n",
    "\n",
    "        self.log(\"test_loss\", loss, prog_bar=True, logger=True)\n",
    "        self.log(\n",
    "            \"test_acc\",\n",
    "            self.test_accuracy.compute(),\n",
    "            prog_bar=True,\n",
    "            logger=True,\n",
    "        )\n",
    "\n",
    "    def on_test_epoch_end(self):\n",
    "        # reset test metrics\n",
    "        self.test_accuracy.reset()\n",
    "\n",
    "    def on_train_end(self):\n",
    "        # Loss\n",
    "        loss_img_file = f\"experiment/training/{MODEL_NAME}_loss_plot.png\"\n",
    "        plt.figure()\n",
    "        plt.plot(self.train_loss, color=\"r\", label=\"train\")\n",
    "        plt.plot(self.val_loss, color=\"b\", label=\"validation\")\n",
    "        plt.title(\"Loss Curves\")\n",
    "        plt.xlabel(\"Epoch\")\n",
    "        plt.ylabel(\"Loss\")\n",
    "        plt.legend()\n",
    "        plt.grid()\n",
    "        plt.savefig(loss_img_file)\n",
    "        plt.show()\n",
    "        plt.clf()\n",
    "\n",
    "        # Accuracy\n",
    "        acc_img_file = f\"experiment/training/{MODEL_NAME}_acc_plot.png\"\n",
    "        plt.figure()\n",
    "        plt.plot(self.train_acc, color=\"r\", label=\"train\")\n",
    "        plt.plot(self.val_acc, color=\"b\", label=\"validation\")\n",
    "        plt.title(\"Accuracy Curves\")\n",
    "        plt.xlabel(\"Epoch\")\n",
    "        plt.ylabel(\"Accuracy\")\n",
    "        plt.legend()\n",
    "        plt.grid()\n",
    "        plt.savefig(acc_img_file)\n",
    "        plt.show()\n",
    "        plt.clf()\n",
    "\n",
    "    def train_dataloader(self):\n",
    "        return data.DataLoader(\n",
    "            dataset=TrainDataset,\n",
    "            batch_size=self.batch_size,\n",
    "            shuffle=True,\n",
    "        )\n",
    "\n",
    "    def val_dataloader(self):\n",
    "        return data.DataLoader(\n",
    "            dataset=ValDataset,\n",
    "            batch_size=self.batch_size,\n",
    "            shuffle=False,\n",
    "        )\n",
    "\n",
    "    def test_dataloader(self):\n",
    "        return data.DataLoader(\n",
    "            dataset=TestDataset,\n",
    "            batch_size=1,\n",
    "            shuffle=False,\n",
    "        )\n",
    "\n",
    "    def configure_optimizers(self):\n",
    "        optimizer = optim.Adam(\n",
    "            self.parameters(),\n",
    "            lr=self.lr,\n",
    "        )\n",
    "        cyclic = optim.lr_scheduler.CyclicLR(\n",
    "            optimizer,\n",
    "            base_lr=BASE_LR_SCALE * self.lr,\n",
    "            max_lr=self.lr,\n",
    "            cycle_momentum=False,\n",
    "        )\n",
    "        lr_scheduler = {\n",
    "            \"scheduler\": cyclic,\n",
    "            \"interval\": \"step\",  # step every batch\n",
    "            \"name\": \"lr\",\n",
    "        }\n",
    "\n",
    "        return [optimizer], [lr_scheduler]"
   ]
  },
  {
   "cell_type": "markdown",
   "metadata": {},
   "source": [
    "### Change Note (near Cell 26)\n",
    "- Modified `DANN.forward` to accept `grl_lambda` and route it to `GradientReversalLayer` during training.\n",
    "- Added GRL schedule `lambda(p)=2/(1+exp(-10p)) - 1` using total step progress; implemented `_compute_grl_lambda()`, `on_fit_start()`, and tracking `current_train_step`.\n",
    "- Updated `training_step` to compute and pass `lambda_grl` for both source and target domain predictions.\n",
    "- Inferred the feature dimension for both heads using `feat_dim = self.backbone.fc.in_features` instead of hard-coding `440`.\n",
    "- Correct DANN objective: use GRL(1.0) and weight domain losses by scheduled `lambda` so θ_f sees −λ∂L_d and θ_d sees +λ∂L_d."
   ]
  },
  {
   "cell_type": "markdown",
   "metadata": {},
   "source": [
    "### Change Note (LR scheduler)\n",
    "- Declared CyclicLR with `interval='step'` and `name='lr'` in `configure_optimizers` to reflect per-batch stepping with manual optimization."
   ]
  },
  {
   "cell_type": "markdown",
   "metadata": {},
   "source": [
    "### Change Note (metrics & early stopping)\n",
    "- Reset torchmetrics at epoch end: `train_accuracy.reset()`, `val_accuracy.reset()`, and `test_accuracy.reset()` to avoid cross-epoch accumulation.\n",
    "- Set `EARLY_STOPPING_PATIENCE = 5` and added the `EarlyStopping` callback using that value."
   ]
  },
  {
   "cell_type": "markdown",
   "metadata": {},
   "source": [
    "### Change Note (matplotlib fix)\n",
    "- Fixed `on_train_end` plotting: moved `plt.show()` before `plt.clf()` and added `plt.figure()` to ensure figures display properly."
   ]
  },
  {
   "cell_type": "code",
   "execution_count": 18,
   "metadata": {
    "id": "Ni2vVs_OsaSJ"
   },
   "outputs": [],
   "source": [
    "MODEL = DANN\n",
    "MODEL_NAME = DANN.__name__\n",
    "BEST_MODEL_PATH = os.path.join(\n",
    "    EXPERIMENT_DIR,\n",
    "    \"model\",\n",
    "    f\"{MODEL_NAME}_best.ckpt\",\n",
    ")"
   ]
  },
  {
   "cell_type": "markdown",
   "metadata": {
    "id": "8vxG6Uzflqjl"
   },
   "source": [
    "## **Training**"
   ]
  },
  {
   "cell_type": "code",
   "execution_count": 19,
   "metadata": {
    "colab": {
     "base_uri": "https://localhost:8080/",
     "height": 799,
     "referenced_widgets": [
      "c6c5c5c3d2c1487da9f95120bc300825",
      "62a271c5769049c79fe2f7e2d561a7f4",
      "a92269624b9a4bd5b0912e49d9d7d93d",
      "0eef27efa8af4c54ab2af711a45e6f50",
      "8df0f7f44d2e4992b342befae8b8a077",
      "21bbbb79632345ddbba6d8e99d9cd079",
      "d3e0782e1ca446cb83f4dfcecf74265b",
      "a0e7545b1c274cd18ea0fb9e076c2a05",
      "ec55cbbf820549108312baf6df5e5687",
      "a898b420cfb44481999793e99e21bbee",
      "647cf32436dd490ca12291912f2e4d0c",
      "c5d870268cdd4a6b971cea012180f631",
      "83cc07805730435e9fca3cf6dc6f150e",
      "2a3ed50bdc8244479ce52fdc3b8b5013",
      "fe4822c6a42b4913b0dd6ca1b2fb9f5d",
      "790d4117a5c3479ca29cba5183689fc8",
      "e7eac32e18634d7c8c39f455dcf90972",
      "700da27600f1429e82f9baa7b64e2036",
      "821e3c31581e49669b3d7ce501ccef31",
      "41a37305a69c4ad5a23cda4f5724bc0a",
      "4f63c469934d4ec0b621fe5896adc281",
      "0be636d229d74def899f54d11dcfa86e",
      "6c51f246b5ba40f7993a4b2d89791b1f",
      "b25a618e06604cdf9f997b20526fb61f",
      "85a0a23affb340d7b8d898e63fa5f557",
      "0c109f3d0648401c89ffb97f7812a05b",
      "484f1cbbd5b84b78ad40386b425c6e41",
      "1e9f5c28e9074d07a865d35826329ac7",
      "b224961199794bfca4ea5b60ede12bfa",
      "52149df1e72741579b1619f294e83ec8",
      "4550147f6a2b436b8b9844baefc9fd46",
      "d8d8947ef00e4455aeb592aa21f5273b",
      "b740b7f7e88a4e23b103630fcc25eaba"
     ]
    },
    "id": "y8bY7DRJlqoq",
    "outputId": "fda079b8-2bd8-45ba-ef02-d298bd7c07e7"
   },
   "outputs": [
    {
     "name": "stderr",
     "output_type": "stream",
     "text": [
      "[rank: 0] Seed set to 1387014629\n"
     ]
    },
    {
     "name": "stdout",
     "output_type": "stream",
     "text": [
      "DANN\n"
     ]
    },
    {
     "name": "stderr",
     "output_type": "stream",
     "text": [
      "GPU available: True (cuda), used: True\n",
      "TPU available: False, using: 0 TPU cores\n",
      "HPU available: False, using: 0 HPUs\n",
      "Restoring states from the checkpoint path at experiment/model/DANN_best.ckpt\n",
      "LOCAL_RANK: 0 - CUDA_VISIBLE_DEVICES: [0]\n",
      "\n",
      "  | Name              | Type               | Params | Mode \n",
      "-----------------------------------------------------------------\n",
      "0 | backbone          | RegNet             | 4.0 M  | train\n",
      "1 | domain_classifier | Sequential         | 48.8 K | train\n",
      "2 | train_accuracy    | MulticlassAccuracy | 0      | train\n",
      "3 | val_accuracy      | MulticlassAccuracy | 0      | train\n",
      "4 | test_accuracy     | MulticlassAccuracy | 0      | train\n",
      "-----------------------------------------------------------------\n",
      "4.0 M     Trainable params\n",
      "0         Non-trainable params\n",
      "4.0 M     Total params\n",
      "16.056    Total estimated model params size (MB)\n",
      "362       Modules in train mode\n",
      "0         Modules in eval mode\n",
      "Restored all states from the checkpoint at experiment/model/DANN_best.ckpt\n",
      "SLURM auto-requeueing enabled. Setting signal handlers.\n"
     ]
    },
    {
     "data": {
      "application/vnd.jupyter.widget-view+json": {
       "model_id": "",
       "version_major": 2,
       "version_minor": 0
      },
      "text/plain": [
       "Sanity Checking: |          | 0/? [00:00<?, ?it/s]"
      ]
     },
     "metadata": {},
     "output_type": "display_data"
    },
    {
     "data": {
      "application/vnd.jupyter.widget-view+json": {
       "model_id": "1ec80c180fff4e1a907828d69f0670c4",
       "version_major": 2,
       "version_minor": 0
      },
      "text/plain": [
       "Training: |          | 0/? [00:00<?, ?it/s]"
      ]
     },
     "metadata": {},
     "output_type": "display_data"
    },
    {
     "data": {
      "application/vnd.jupyter.widget-view+json": {
       "model_id": "",
       "version_major": 2,
       "version_minor": 0
      },
      "text/plain": [
       "Validation: |          | 0/? [00:00<?, ?it/s]"
      ]
     },
     "metadata": {},
     "output_type": "display_data"
    },
    {
     "name": "stdout",
     "output_type": "stream",
     "text": [
      "[DANN] Learning Rate Changed: 0.0007330267 - Epoch: 1\n"
     ]
    },
    {
     "data": {
      "application/vnd.jupyter.widget-view+json": {
       "model_id": "",
       "version_major": 2,
       "version_minor": 0
      },
      "text/plain": [
       "Validation: |          | 0/? [00:00<?, ?it/s]"
      ]
     },
     "metadata": {},
     "output_type": "display_data"
    },
    {
     "name": "stdout",
     "output_type": "stream",
     "text": [
      "[DANN] Learning Rate Changed: 0.00090050995 - Epoch: 2\n"
     ]
    },
    {
     "data": {
      "application/vnd.jupyter.widget-view+json": {
       "model_id": "",
       "version_major": 2,
       "version_minor": 0
      },
      "text/plain": [
       "Validation: |          | 0/? [00:00<?, ?it/s]"
      ]
     },
     "metadata": {},
     "output_type": "display_data"
    },
    {
     "name": "stdout",
     "output_type": "stream",
     "text": [
      "[DANN] Learning Rate Changed: 0.0005340465999999997 - Epoch: 3\n"
     ]
    },
    {
     "data": {
      "application/vnd.jupyter.widget-view+json": {
       "model_id": "",
       "version_major": 2,
       "version_minor": 0
      },
      "text/plain": [
       "Validation: |          | 0/? [00:00<?, ?it/s]"
      ]
     },
     "metadata": {},
     "output_type": "display_data"
    },
    {
     "name": "stdout",
     "output_type": "stream",
     "text": [
      "[DANN] Learning Rate Changed: 0.00016758325 - Epoch: 4\n"
     ]
    },
    {
     "data": {
      "application/vnd.jupyter.widget-view+json": {
       "model_id": "",
       "version_major": 2,
       "version_minor": 0
      },
      "text/plain": [
       "Validation: |          | 0/? [00:00<?, ?it/s]"
      ]
     },
     "metadata": {},
     "output_type": "display_data"
    },
    {
     "name": "stdout",
     "output_type": "stream",
     "text": [
      "[DANN] Learning Rate Changed: 0.00019908009999999984 - Epoch: 5\n"
     ]
    },
    {
     "data": {
      "application/vnd.jupyter.widget-view+json": {
       "model_id": "",
       "version_major": 2,
       "version_minor": 0
      },
      "text/plain": [
       "Validation: |          | 0/? [00:00<?, ?it/s]"
      ]
     },
     "metadata": {},
     "output_type": "display_data"
    },
    {
     "name": "stdout",
     "output_type": "stream",
     "text": [
      "[DANN] Learning Rate Changed: 0.00056554345 - Epoch: 6\n"
     ]
    },
    {
     "data": {
      "application/vnd.jupyter.widget-view+json": {
       "model_id": "",
       "version_major": 2,
       "version_minor": 0
      },
      "text/plain": [
       "Validation: |          | 0/? [00:00<?, ?it/s]"
      ]
     },
     "metadata": {},
     "output_type": "display_data"
    },
    {
     "name": "stdout",
     "output_type": "stream",
     "text": [
      "[DANN] Learning Rate Changed: 0.0009320068000000003 - Epoch: 7\n"
     ]
    },
    {
     "data": {
      "application/vnd.jupyter.widget-view+json": {
       "model_id": "",
       "version_major": 2,
       "version_minor": 0
      },
      "text/plain": [
       "Validation: |          | 0/? [00:00<?, ?it/s]"
      ]
     },
     "metadata": {},
     "output_type": "display_data"
    },
    {
     "name": "stdout",
     "output_type": "stream",
     "text": [
      "[DANN] Learning Rate Changed: 0.0007015298499999993 - Epoch: 8\n"
     ]
    },
    {
     "data": {
      "application/vnd.jupyter.widget-view+json": {
       "model_id": "",
       "version_major": 2,
       "version_minor": 0
      },
      "text/plain": [
       "Validation: |          | 0/? [00:00<?, ?it/s]"
      ]
     },
     "metadata": {},
     "output_type": "display_data"
    },
    {
     "name": "stdout",
     "output_type": "stream",
     "text": [
      "[DANN] Learning Rate Changed: 0.0003350665 - Epoch: 9\n"
     ]
    },
    {
     "data": {
      "application/vnd.jupyter.widget-view+json": {
       "model_id": "",
       "version_major": 2,
       "version_minor": 0
      },
      "text/plain": [
       "Validation: |          | 0/? [00:00<?, ?it/s]"
      ]
     },
     "metadata": {},
     "output_type": "display_data"
    },
    {
     "name": "stdout",
     "output_type": "stream",
     "text": [
      "[DANN] Learning Rate Changed: 3.1596850000000304e-05 - Epoch: 10\n"
     ]
    },
    {
     "data": {
      "application/vnd.jupyter.widget-view+json": {
       "model_id": "",
       "version_major": 2,
       "version_minor": 0
      },
      "text/plain": [
       "Validation: |          | 0/? [00:00<?, ?it/s]"
      ]
     },
     "metadata": {},
     "output_type": "display_data"
    },
    {
     "name": "stdout",
     "output_type": "stream",
     "text": [
      "[DANN] Learning Rate Changed: 0.0003980601999999997 - Epoch: 11\n"
     ]
    },
    {
     "data": {
      "application/vnd.jupyter.widget-view+json": {
       "model_id": "",
       "version_major": 2,
       "version_minor": 0
      },
      "text/plain": [
       "Validation: |          | 0/? [00:00<?, ?it/s]"
      ]
     },
     "metadata": {},
     "output_type": "display_data"
    },
    {
     "name": "stdout",
     "output_type": "stream",
     "text": [
      "[DANN] Learning Rate Changed: 0.0007645235499999999 - Epoch: 12\n"
     ]
    },
    {
     "data": {
      "application/vnd.jupyter.widget-view+json": {
       "model_id": "",
       "version_major": 2,
       "version_minor": 0
      },
      "text/plain": [
       "Validation: |          | 0/? [00:00<?, ?it/s]"
      ]
     },
     "metadata": {},
     "output_type": "display_data"
    },
    {
     "name": "stdout",
     "output_type": "stream",
     "text": [
      "[DANN] Learning Rate Changed: 0.0008690130999999997 - Epoch: 13\n"
     ]
    },
    {
     "data": {
      "application/vnd.jupyter.widget-view+json": {
       "model_id": "",
       "version_major": 2,
       "version_minor": 0
      },
      "text/plain": [
       "Validation: |          | 0/? [00:00<?, ?it/s]"
      ]
     },
     "metadata": {},
     "output_type": "display_data"
    },
    {
     "name": "stdout",
     "output_type": "stream",
     "text": [
      "[DANN] Learning Rate Changed: 0.0005025497500000003 - Epoch: 14\n"
     ]
    },
    {
     "data": {
      "application/vnd.jupyter.widget-view+json": {
       "model_id": "",
       "version_major": 2,
       "version_minor": 0
      },
      "text/plain": [
       "Validation: |          | 0/? [00:00<?, ?it/s]"
      ]
     },
     "metadata": {},
     "output_type": "display_data"
    },
    {
     "name": "stdout",
     "output_type": "stream",
     "text": [
      "[DANN] Learning Rate Changed: 0.0001360864000000001 - Epoch: 15\n"
     ]
    },
    {
     "data": {
      "application/vnd.jupyter.widget-view+json": {
       "model_id": "",
       "version_major": 2,
       "version_minor": 0
      },
      "text/plain": [
       "Validation: |          | 0/? [00:00<?, ?it/s]"
      ]
     },
     "metadata": {},
     "output_type": "display_data"
    },
    {
     "name": "stdout",
     "output_type": "stream",
     "text": [
      "[DANN] Learning Rate Changed: 0.00023057694999999926 - Epoch: 16\n"
     ]
    },
    {
     "data": {
      "application/vnd.jupyter.widget-view+json": {
       "model_id": "",
       "version_major": 2,
       "version_minor": 0
      },
      "text/plain": [
       "Validation: |          | 0/? [00:00<?, ?it/s]"
      ]
     },
     "metadata": {},
     "output_type": "display_data"
    },
    {
     "name": "stdout",
     "output_type": "stream",
     "text": [
      "[DANN] Learning Rate Changed: 0.0005970403000000013 - Epoch: 17\n"
     ]
    },
    {
     "data": {
      "application/vnd.jupyter.widget-view+json": {
       "model_id": "",
       "version_major": 2,
       "version_minor": 0
      },
      "text/plain": [
       "Validation: |          | 0/? [00:00<?, ?it/s]"
      ]
     },
     "metadata": {},
     "output_type": "display_data"
    },
    {
     "name": "stdout",
     "output_type": "stream",
     "text": [
      "[DANN] Learning Rate Changed: 0.0009635036499999997 - Epoch: 18\n"
     ]
    },
    {
     "data": {
      "application/vnd.jupyter.widget-view+json": {
       "model_id": "",
       "version_major": 2,
       "version_minor": 0
      },
      "text/plain": [
       "Validation: |          | 0/? [00:00<?, ?it/s]"
      ]
     },
     "metadata": {},
     "output_type": "display_data"
    },
    {
     "name": "stdout",
     "output_type": "stream",
     "text": [
      "[DANN] Learning Rate Changed: 0.0006700329999999999 - Epoch: 19\n"
     ]
    },
    {
     "data": {
      "application/vnd.jupyter.widget-view+json": {
       "model_id": "",
       "version_major": 2,
       "version_minor": 0
      },
      "text/plain": [
       "Validation: |          | 0/? [00:00<?, ?it/s]"
      ]
     },
     "metadata": {},
     "output_type": "display_data"
    },
    {
     "name": "stdout",
     "output_type": "stream",
     "text": [
      "[DANN] Learning Rate Changed: 0.00030356964999999963 - Epoch: 20\n"
     ]
    },
    {
     "data": {
      "application/vnd.jupyter.widget-view+json": {
       "model_id": "",
       "version_major": 2,
       "version_minor": 0
      },
      "text/plain": [
       "Validation: |          | 0/? [00:00<?, ?it/s]"
      ]
     },
     "metadata": {},
     "output_type": "display_data"
    },
    {
     "name": "stdout",
     "output_type": "stream",
     "text": [
      "[DANN] Learning Rate Changed: 6.30937000000006e-05 - Epoch: 21\n"
     ]
    },
    {
     "data": {
      "application/vnd.jupyter.widget-view+json": {
       "model_id": "",
       "version_major": 2,
       "version_minor": 0
      },
      "text/plain": [
       "Validation: |          | 0/? [00:00<?, ?it/s]"
      ]
     },
     "metadata": {},
     "output_type": "display_data"
    },
    {
     "name": "stdout",
     "output_type": "stream",
     "text": [
      "[DANN] Learning Rate Changed: 0.0004295570500000009 - Epoch: 22\n"
     ]
    },
    {
     "data": {
      "application/vnd.jupyter.widget-view+json": {
       "model_id": "",
       "version_major": 2,
       "version_minor": 0
      },
      "text/plain": [
       "Validation: |          | 0/? [00:00<?, ?it/s]"
      ]
     },
     "metadata": {},
     "output_type": "display_data"
    },
    {
     "name": "stdout",
     "output_type": "stream",
     "text": [
      "[DANN] Learning Rate Changed: 0.0007960203999999993 - Epoch: 23\n"
     ]
    },
    {
     "data": {
      "application/vnd.jupyter.widget-view+json": {
       "model_id": "dbe4282900d24a63be8185f504a9c98d",
       "version_major": 2,
       "version_minor": 0
      },
      "text/plain": [
       "Validation: |          | 0/? [00:00<?, ?it/s]"
      ]
     },
     "metadata": {},
     "output_type": "display_data"
    },
    {
     "name": "stdout",
     "output_type": "stream",
     "text": [
      "[DANN] Learning Rate Changed: 0.0008375162500000003 - Epoch: 24\n"
     ]
    },
    {
     "data": {
      "application/vnd.jupyter.widget-view+json": {
       "model_id": "6f7fd8452e2340a1a2ebdd67440650c8",
       "version_major": 2,
       "version_minor": 0
      },
      "text/plain": [
       "Validation: |          | 0/? [00:00<?, ?it/s]"
      ]
     },
     "metadata": {},
     "output_type": "display_data"
    },
    {
     "name": "stdout",
     "output_type": "stream",
     "text": [
      "[DANN] Learning Rate Changed: 0.00047105290000000005 - Epoch: 25\n"
     ]
    },
    {
     "data": {
      "text/plain": [
       "<Figure size 640x480 with 0 Axes>"
      ]
     },
     "metadata": {},
     "output_type": "display_data"
    },
    {
     "data": {
      "text/plain": [
       "<Figure size 640x480 with 0 Axes>"
      ]
     },
     "metadata": {},
     "output_type": "display_data"
    }
   ],
   "source": [
    "def _train_loop():\n",
    "    seed_everything(SEED, workers=True)\n",
    "\n",
    "    print(MODEL_NAME)\n",
    "    model = MODEL()\n",
    "\n",
    "    callbacks = list()\n",
    "\n",
    "    checkpoint = ModelCheckpoint(\n",
    "        monitor=METRIC_TO_MONITOR,\n",
    "        dirpath=f\"{EXPERIMENT_DIR}/model\",\n",
    "        mode=METRIC_MODE,\n",
    "        filename=f\"{MODEL_NAME}_best\",\n",
    "    )\n",
    "    callbacks.append(checkpoint)\n",
    "\n",
    "    early_stopping = EarlyStopping(\n",
    "        monitor=METRIC_TO_MONITOR,\n",
    "        min_delta=0.00,\n",
    "        patience=EARLY_STOPPING_PATIENCE,\n",
    "        verbose=False,\n",
    "        mode=METRIC_MODE,\n",
    "    )\n",
    "    callbacks.append(early_stopping)\n",
    "\n",
    "    if os.path.exists(BEST_MODEL_PATH):\n",
    "        ckpt_path = BEST_MODEL_PATH\n",
    "    else:\n",
    "        ckpt_path = None\n",
    "\n",
    "    trainer = Trainer(\n",
    "        accelerator=\"auto\",\n",
    "        devices=1,\n",
    "        max_epochs=EPOCH,\n",
    "        logger=False,\n",
    "        callbacks=callbacks,\n",
    "        log_every_n_steps=5,\n",
    "    )\n",
    "    trainer.fit(model, ckpt_path=ckpt_path)\n",
    "\n",
    "\n",
    "torch.set_float32_matmul_precision(\"high\")\n",
    "_train_loop()"
   ]
  },
  {
   "cell_type": "markdown",
   "metadata": {
    "id": "o6MmmuwWlqsU"
   },
   "source": [
    "## **Testing**"
   ]
  },
  {
   "cell_type": "code",
   "execution_count": 20,
   "metadata": {
    "id": "1qq1LddKlqva"
   },
   "outputs": [
    {
     "name": "stderr",
     "output_type": "stream",
     "text": [
      "💡 Tip: For seamless cloud uploads and versioning, try installing [litmodels](https://pypi.org/project/litmodels/) to enable LitModelCheckpoint, which syncs automatically with the Lightning model registry.\n",
      "GPU available: True (cuda), used: True\n",
      "TPU available: False, using: 0 TPU cores\n",
      "HPU available: False, using: 0 HPUs\n",
      "Restoring states from the checkpoint path at experiment/model/DANN_best.ckpt\n",
      "LOCAL_RANK: 0 - CUDA_VISIBLE_DEVICES: [0]\n",
      "Loaded model weights from the checkpoint at experiment/model/DANN_best.ckpt\n",
      "SLURM auto-requeueing enabled. Setting signal handlers.\n"
     ]
    },
    {
     "data": {
      "application/vnd.jupyter.widget-view+json": {
       "model_id": "6a71f00265344b97bbd3100517886a8b",
       "version_major": 2,
       "version_minor": 0
      },
      "text/plain": [
       "Testing: |          | 0/? [00:00<?, ?it/s]"
      ]
     },
     "metadata": {},
     "output_type": "display_data"
    },
    {
     "data": {
      "text/html": [
       "<pre style=\"white-space:pre;overflow-x:auto;line-height:normal;font-family:Menlo,'DejaVu Sans Mono',consolas,'Courier New',monospace\">┏━━━━━━━━━━━━━━━━━━━━━━━━━━━┳━━━━━━━━━━━━━━━━━━━━━━━━━━━┓\n",
       "┃<span style=\"font-weight: bold\">        Test metric        </span>┃<span style=\"font-weight: bold\">       DataLoader 0        </span>┃\n",
       "┡━━━━━━━━━━━━━━━━━━━━━━━━━━━╇━━━━━━━━━━━━━━━━━━━━━━━━━━━┩\n",
       "│<span style=\"color: #008080; text-decoration-color: #008080\">         test_acc          </span>│<span style=\"color: #800080; text-decoration-color: #800080\">    0.5294755101203918     </span>│\n",
       "│<span style=\"color: #008080; text-decoration-color: #008080\">         test_loss         </span>│<span style=\"color: #800080; text-decoration-color: #800080\">    3.0415849685668945     </span>│\n",
       "└───────────────────────────┴───────────────────────────┘\n",
       "</pre>\n"
      ],
      "text/plain": [
       "┏━━━━━━━━━━━━━━━━━━━━━━━━━━━┳━━━━━━━━━━━━━━━━━━━━━━━━━━━┓\n",
       "┃\u001b[1m \u001b[0m\u001b[1m       Test metric       \u001b[0m\u001b[1m \u001b[0m┃\u001b[1m \u001b[0m\u001b[1m      DataLoader 0       \u001b[0m\u001b[1m \u001b[0m┃\n",
       "┡━━━━━━━━━━━━━━━━━━━━━━━━━━━╇━━━━━━━━━━━━━━━━━━━━━━━━━━━┩\n",
       "│\u001b[36m \u001b[0m\u001b[36m        test_acc         \u001b[0m\u001b[36m \u001b[0m│\u001b[35m \u001b[0m\u001b[35m   0.5294755101203918    \u001b[0m\u001b[35m \u001b[0m│\n",
       "│\u001b[36m \u001b[0m\u001b[36m        test_loss        \u001b[0m\u001b[36m \u001b[0m│\u001b[35m \u001b[0m\u001b[35m   3.0415849685668945    \u001b[0m\u001b[35m \u001b[0m│\n",
       "└───────────────────────────┴───────────────────────────┘\n"
      ]
     },
     "metadata": {},
     "output_type": "display_data"
    }
   ],
   "source": [
    "def _test_loop():\n",
    "    trainer = Trainer(accelerator=\"auto\", logger=False)\n",
    "    model = MODEL()\n",
    "    trainer.test(model=model, ckpt_path=BEST_MODEL_PATH)\n",
    "\n",
    "\n",
    "_test_loop()"
   ]
  },
  {
   "cell_type": "markdown",
   "metadata": {
    "id": "1FjnVa4jlqyb"
   },
   "source": [
    "## **Inference**"
   ]
  },
  {
   "cell_type": "code",
   "execution_count": 21,
   "metadata": {
    "id": "xd_kCUUAlq14"
   },
   "outputs": [
    {
     "name": "stdout",
     "output_type": "stream",
     "text": [
      "Using downloaded and verified file: experiment/dataset/test_32x32.mat\n"
     ]
    },
    {
     "data": {
      "text/plain": [
       "<Figure size 640x480 with 0 Axes>"
      ]
     },
     "metadata": {},
     "output_type": "display_data"
    },
    {
     "data": {
      "image/png": "[encoded data removed]",
      "text/plain": [
       "<Figure size 640x480 with 9 Axes>"
      ]
     },
     "metadata": {},
     "output_type": "display_data"
    }
   ],
   "source": [
    "model = MODEL.load_from_checkpoint(BEST_MODEL_PATH)\n",
    "model.eval()\n",
    "\n",
    "plt.clf()\n",
    "fig = plt.figure()\n",
    "plt.subplots_adjust(\n",
    "    left=0.1,\n",
    "    bottom=0.1,\n",
    "    right=math.sqrt(2),\n",
    "    top=math.sqrt(3),\n",
    "    wspace=0.4,\n",
    "    hspace=0.4,\n",
    ")\n",
    "\n",
    "class_bin = list()\n",
    "\n",
    "InferenceDataset = SVHN(\n",
    "    root=\"experiment/dataset/\",\n",
    "    split=\"test\",\n",
    "    download=True,\n",
    ")\n",
    "\n",
    "for index in range(9):\n",
    "    while True:\n",
    "        sample_idx = random.randint(0, len(InferenceDataset) - 1)\n",
    "        image, gt_class = InferenceDataset[sample_idx]\n",
    "\n",
    "        if not gt_class in class_bin:\n",
    "            class_bin.append(gt_class)\n",
    "            break\n",
    "        else:\n",
    "            continue\n",
    "\n",
    "    prediction = model(\n",
    "        TRANSFORM(image).to(\"cuda\" if torch.cuda.is_available else \"cpu\").unsqueeze(0),\n",
    "    )\n",
    "\n",
    "    prediction.softmax(1)\n",
    "    predicted_class = torch.argmax(prediction).data.cpu().numpy()\n",
    "\n",
    "    title = f\"Predicted: {predicted_class}\\n\"\n",
    "    title += f\"Ground-truth: {gt_class}\"\n",
    "\n",
    "    ax = fig.add_subplot(3, 3, index + 1)\n",
    "\n",
    "    ax.imshow(np.array(image).astype(np.uint8))\n",
    "    ax.set_title(title, fontsize=8)\n",
    "    ax.set_axis_off()\n",
    "\n",
    "plt.show()\n",
    "\n",
    "del InferenceDataset"
   ]
  },
  {
   "cell_type": "markdown",
   "metadata": {},
   "source": [
    "## Summary of Changes\n",
    "- Implemented GRL lambda scheduling per DANN: `lambda(p) = 2/(1+exp(-10p)) - 1`.\n",
    "- `GradientReversalLayer` now accepts `lambda_` and scales gradients by `-lambda_`.\n",
    "- `DANN.forward(x, grl_lambda)` passes `grl_lambda` to GRL during training.\n",
    "- Added `_compute_grl_lambda()`, `on_fit_start()` and `current_train_step` tracking; incremented the counter each training step.\n",
    "- Updated `training_step` to compute and pass the scheduled `lambda_grl` for source and target domain losses.\n",
    "- Fixed head input sizes by inferring `feat_dim = self.backbone.fc.in_features` for both label and domain heads (removed hard-coded 440).\n",
    "- Added ImageNet normalization to both domains and removed `[-1,1]` scaling; slightly moderated source augmentations for stability with a pretrained backbone.\n",
    "- Correct DANN scaling for θ_d: use GRL(1.0) and weight domain losses by scheduled `lambda` to match the saddle-point updates.\n",
    "- Reset metrics each epoch (`train/val/test_accuracy.reset()`) and added `EarlyStopping` with integer `EARLY_STOPPING_PATIENCE`.\n",
    "- Declared `CyclicLR` scheduler interval=`step` and name=`lr` to reflect per-batch stepping."
   ]
  }
 ],
 "metadata": {
  "accelerator": "GPU",
  "colab": {
   "collapsed_sections": [
    "bn6rOS6Yls4f",
    "vKzqAlqRmjJB",
    "8KYLw9Avltiv",
    "0UGg5It9lt-1",
    "vGe2laAvluJs",
    "DfSTO7GrqL-E",
    "v72HiXPUlqMX",
    "FMljZV18VuJB",
    "Ow0UIr5wlqV0",
    "8vxG6Uzflqjl",
    "o6MmmuwWlqsU",
    "1FjnVa4jlqyb"
   ],
   "gpuType": "A100",
   "machine_shape": "hm",
   "provenance": []
  },
  "kernelspec": {
   "display_name": "Python 3 (ipykernel)",
   "language": "python",
   "name": "python3"
  },
  "language_info": {
   "codemirror_mode": {
    "name": "ipython",
    "version": 3
   },
   "file_extension": ".py",
   "mimetype": "text/x-python",
   "name": "python",
   "nbconvert_exporter": "python",
   "pygments_lexer": "ipython3",
   "version": "3.11.6"
  },
  "widgets": {
   "application/vnd.jupyter.widget-state+json": {
    "0be636d229d74def899f54d11dcfa86e": {
     "model_module": "@jupyter-widgets/controls",
     "model_module_version": "1.5.0",
     "model_name": "DescriptionStyleModel",
     "state": {
      "_model_module": "@jupyter-widgets/controls",
      "_model_module_version": "1.5.0",
      "_model_name": "DescriptionStyleModel",
      "_view_count": null,
      "_view_module": "@jupyter-widgets/base",
      "_view_module_version": "1.2.0",
      "_view_name": "StyleView",
      "description_width": ""
     }
    },
    "0c109f3d0648401c89ffb97f7812a05b": {
     "model_module": "@jupyter-widgets/controls",
     "model_module_version": "1.5.0",
     "model_name": "HTMLModel",
     "state": {
      "_dom_classes": [],
      "_model_module": "@jupyter-widgets/controls",
      "_model_module_version": "1.5.0",
      "_model_name": "HTMLModel",
      "_view_count": null,
      "_view_module": "@jupyter-widgets/controls",
      "_view_module_version": "1.5.0",
      "_view_name": "HTMLView",
      "description": "",
      "description_tooltip": null,
      "layout": "IPY_MODEL_d8d8947ef00e4455aeb592aa21f5273b",
      "placeholder": "​",
      "style": "IPY_MODEL_b740b7f7e88a4e23b103630fcc25eaba",
      "value": " 261/261 [00:09&lt;00:00, 26.66it/s]"
     }
    },
    "0eef27efa8af4c54ab2af711a45e6f50": {
     "model_module": "@jupyter-widgets/controls",
     "model_module_version": "1.5.0",
     "model_name": "HTMLModel",
     "state": {
      "_dom_classes": [],
      "_model_module": "@jupyter-widgets/controls",
      "_model_module_version": "1.5.0",
      "_model_name": "HTMLModel",
      "_view_count": null,
      "_view_module": "@jupyter-widgets/controls",
      "_view_module_version": "1.5.0",
      "_view_name": "HTMLView",
      "description": "",
      "description_tooltip": null,
      "layout": "IPY_MODEL_a898b420cfb44481999793e99e21bbee",
      "placeholder": "​",
      "style": "IPY_MODEL_647cf32436dd490ca12291912f2e4d0c",
      "value": " 2/2 [00:00&lt;00:00, 41.33it/s]"
     }
    },
    "1e9f5c28e9074d07a865d35826329ac7": {
     "model_module": "@jupyter-widgets/base",
     "model_module_version": "1.2.0",
     "model_name": "LayoutModel",
     "state": {
      "_model_module": "@jupyter-widgets/base",
      "_model_module_version": "1.2.0",
      "_model_name": "LayoutModel",
      "_view_count": null,
      "_view_module": "@jupyter-widgets/base",
      "_view_module_version": "1.2.0",
      "_view_name": "LayoutView",
      "align_content": null,
      "align_items": null,
      "align_self": null,
      "border": null,
      "bottom": null,
      "display": null,
      "flex": null,
      "flex_flow": null,
      "grid_area": null,
      "grid_auto_columns": null,
      "grid_auto_flow": null,
      "grid_auto_rows": null,
      "grid_column": null,
      "grid_gap": null,
      "grid_row": null,
      "grid_template_areas": null,
      "grid_template_columns": null,
      "grid_template_rows": null,
      "height": null,
      "justify_content": null,
      "justify_items": null,
      "left": null,
      "margin": null,
      "max_height": null,
      "max_width": null,
      "min_height": null,
      "min_width": null,
      "object_fit": null,
      "object_position": null,
      "order": null,
      "overflow": null,
      "overflow_x": null,
      "overflow_y": null,
      "padding": null,
      "right": null,
      "top": null,
      "visibility": null,
      "width": null
     }
    },
    "21bbbb79632345ddbba6d8e99d9cd079": {
     "model_module": "@jupyter-widgets/base",
     "model_module_version": "1.2.0",
     "model_name": "LayoutModel",
     "state": {
      "_model_module": "@jupyter-widgets/base",
      "_model_module_version": "1.2.0",
      "_model_name": "LayoutModel",
      "_view_count": null,
      "_view_module": "@jupyter-widgets/base",
      "_view_module_version": "1.2.0",
      "_view_name": "LayoutView",
      "align_content": null,
      "align_items": null,
      "align_self": null,
      "border": null,
      "bottom": null,
      "display": null,
      "flex": null,
      "flex_flow": null,
      "grid_area": null,
      "grid_auto_columns": null,
      "grid_auto_flow": null,
      "grid_auto_rows": null,
      "grid_column": null,
      "grid_gap": null,
      "grid_row": null,
      "grid_template_areas": null,
      "grid_template_columns": null,
      "grid_template_rows": null,
      "height": null,
      "justify_content": null,
      "justify_items": null,
      "left": null,
      "margin": null,
      "max_height": null,
      "max_width": null,
      "min_height": null,
      "min_width": null,
      "object_fit": null,
      "object_position": null,
      "order": null,
      "overflow": null,
      "overflow_x": null,
      "overflow_y": null,
      "padding": null,
      "right": null,
      "top": null,
      "visibility": null,
      "width": null
     }
    },
    "2a3ed50bdc8244479ce52fdc3b8b5013": {
     "model_module": "@jupyter-widgets/controls",
     "model_module_version": "1.5.0",
     "model_name": "FloatProgressModel",
     "state": {
      "_dom_classes": [],
      "_model_module": "@jupyter-widgets/controls",
      "_model_module_version": "1.5.0",
      "_model_name": "FloatProgressModel",
      "_view_count": null,
      "_view_module": "@jupyter-widgets/controls",
      "_view_module_version": "1.5.0",
      "_view_name": "ProgressView",
      "bar_style": "",
      "description": "",
      "description_tooltip": null,
      "layout": "IPY_MODEL_821e3c31581e49669b3d7ce501ccef31",
      "max": 1,
      "min": 0,
      "orientation": "horizontal",
      "style": "IPY_MODEL_41a37305a69c4ad5a23cda4f5724bc0a",
      "value": 1
     }
    },
    "41a37305a69c4ad5a23cda4f5724bc0a": {
     "model_module": "@jupyter-widgets/controls",
     "model_module_version": "1.5.0",
     "model_name": "ProgressStyleModel",
     "state": {
      "_model_module": "@jupyter-widgets/controls",
      "_model_module_version": "1.5.0",
      "_model_name": "ProgressStyleModel",
      "_view_count": null,
      "_view_module": "@jupyter-widgets/base",
      "_view_module_version": "1.2.0",
      "_view_name": "StyleView",
      "bar_color": null,
      "description_width": ""
     }
    },
    "4550147f6a2b436b8b9844baefc9fd46": {
     "model_module": "@jupyter-widgets/controls",
     "model_module_version": "1.5.0",
     "model_name": "ProgressStyleModel",
     "state": {
      "_model_module": "@jupyter-widgets/controls",
      "_model_module_version": "1.5.0",
      "_model_name": "ProgressStyleModel",
      "_view_count": null,
      "_view_module": "@jupyter-widgets/base",
      "_view_module_version": "1.2.0",
      "_view_name": "StyleView",
      "bar_color": null,
      "description_width": ""
     }
    },
    "484f1cbbd5b84b78ad40386b425c6e41": {
     "model_module": "@jupyter-widgets/base",
     "model_module_version": "1.2.0",
     "model_name": "LayoutModel",
     "state": {
      "_model_module": "@jupyter-widgets/base",
      "_model_module_version": "1.2.0",
      "_model_name": "LayoutModel",
      "_view_count": null,
      "_view_module": "@jupyter-widgets/base",
      "_view_module_version": "1.2.0",
      "_view_name": "LayoutView",
      "align_content": null,
      "align_items": null,
      "align_self": null,
      "border": null,
      "bottom": null,
      "display": "inline-flex",
      "flex": null,
      "flex_flow": "row wrap",
      "grid_area": null,
      "grid_auto_columns": null,
      "grid_auto_flow": null,
      "grid_auto_rows": null,
      "grid_column": null,
      "grid_gap": null,
      "grid_row": null,
      "grid_template_areas": null,
      "grid_template_columns": null,
      "grid_template_rows": null,
      "height": null,
      "justify_content": null,
      "justify_items": null,
      "left": null,
      "margin": null,
      "max_height": null,
      "max_width": null,
      "min_height": null,
      "min_width": null,
      "object_fit": null,
      "object_position": null,
      "order": null,
      "overflow": null,
      "overflow_x": null,
      "overflow_y": null,
      "padding": null,
      "right": null,
      "top": null,
      "visibility": "hidden",
      "width": "100%"
     }
    },
    "4f63c469934d4ec0b621fe5896adc281": {
     "model_module": "@jupyter-widgets/base",
     "model_module_version": "1.2.0",
     "model_name": "LayoutModel",
     "state": {
      "_model_module": "@jupyter-widgets/base",
      "_model_module_version": "1.2.0",
      "_model_name": "LayoutModel",
      "_view_count": null,
      "_view_module": "@jupyter-widgets/base",
      "_view_module_version": "1.2.0",
      "_view_name": "LayoutView",
      "align_content": null,
      "align_items": null,
      "align_self": null,
      "border": null,
      "bottom": null,
      "display": null,
      "flex": null,
      "flex_flow": null,
      "grid_area": null,
      "grid_auto_columns": null,
      "grid_auto_flow": null,
      "grid_auto_rows": null,
      "grid_column": null,
      "grid_gap": null,
      "grid_row": null,
      "grid_template_areas": null,
      "grid_template_columns": null,
      "grid_template_rows": null,
      "height": null,
      "justify_content": null,
      "justify_items": null,
      "left": null,
      "margin": null,
      "max_height": null,
      "max_width": null,
      "min_height": null,
      "min_width": null,
      "object_fit": null,
      "object_position": null,
      "order": null,
      "overflow": null,
      "overflow_x": null,
      "overflow_y": null,
      "padding": null,
      "right": null,
      "top": null,
      "visibility": null,
      "width": null
     }
    },
    "52149df1e72741579b1619f294e83ec8": {
     "model_module": "@jupyter-widgets/base",
     "model_module_version": "1.2.0",
     "model_name": "LayoutModel",
     "state": {
      "_model_module": "@jupyter-widgets/base",
      "_model_module_version": "1.2.0",
      "_model_name": "LayoutModel",
      "_view_count": null,
      "_view_module": "@jupyter-widgets/base",
      "_view_module_version": "1.2.0",
      "_view_name": "LayoutView",
      "align_content": null,
      "align_items": null,
      "align_self": null,
      "border": null,
      "bottom": null,
      "display": null,
      "flex": "2",
      "flex_flow": null,
      "grid_area": null,
      "grid_auto_columns": null,
      "grid_auto_flow": null,
      "grid_auto_rows": null,
      "grid_column": null,
      "grid_gap": null,
      "grid_row": null,
      "grid_template_areas": null,
      "grid_template_columns": null,
      "grid_template_rows": null,
      "height": null,
      "justify_content": null,
      "justify_items": null,
      "left": null,
      "margin": null,
      "max_height": null,
      "max_width": null,
      "min_height": null,
      "min_width": null,
      "object_fit": null,
      "object_position": null,
      "order": null,
      "overflow": null,
      "overflow_x": null,
      "overflow_y": null,
      "padding": null,
      "right": null,
      "top": null,
      "visibility": null,
      "width": null
     }
    },
    "62a271c5769049c79fe2f7e2d561a7f4": {
     "model_module": "@jupyter-widgets/controls",
     "model_module_version": "1.5.0",
     "model_name": "HTMLModel",
     "state": {
      "_dom_classes": [],
      "_model_module": "@jupyter-widgets/controls",
      "_model_module_version": "1.5.0",
      "_model_name": "HTMLModel",
      "_view_count": null,
      "_view_module": "@jupyter-widgets/controls",
      "_view_module_version": "1.5.0",
      "_view_name": "HTMLView",
      "description": "",
      "description_tooltip": null,
      "layout": "IPY_MODEL_21bbbb79632345ddbba6d8e99d9cd079",
      "placeholder": "​",
      "style": "IPY_MODEL_d3e0782e1ca446cb83f4dfcecf74265b",
      "value": "Sanity Checking DataLoader 0: 100%"
     }
    },
    "647cf32436dd490ca12291912f2e4d0c": {
     "model_module": "@jupyter-widgets/controls",
     "model_module_version": "1.5.0",
     "model_name": "DescriptionStyleModel",
     "state": {
      "_model_module": "@jupyter-widgets/controls",
      "_model_module_version": "1.5.0",
      "_model_name": "DescriptionStyleModel",
      "_view_count": null,
      "_view_module": "@jupyter-widgets/base",
      "_view_module_version": "1.2.0",
      "_view_name": "StyleView",
      "description_width": ""
     }
    },
    "6c51f246b5ba40f7993a4b2d89791b1f": {
     "model_module": "@jupyter-widgets/controls",
     "model_module_version": "1.5.0",
     "model_name": "HBoxModel",
     "state": {
      "_dom_classes": [],
      "_model_module": "@jupyter-widgets/controls",
      "_model_module_version": "1.5.0",
      "_model_name": "HBoxModel",
      "_view_count": null,
      "_view_module": "@jupyter-widgets/controls",
      "_view_module_version": "1.5.0",
      "_view_name": "HBoxView",
      "box_style": "",
      "children": [
       "IPY_MODEL_b25a618e06604cdf9f997b20526fb61f",
       "IPY_MODEL_85a0a23affb340d7b8d898e63fa5f557",
       "IPY_MODEL_0c109f3d0648401c89ffb97f7812a05b"
      ],
      "layout": "IPY_MODEL_484f1cbbd5b84b78ad40386b425c6e41"
     }
    },
    "700da27600f1429e82f9baa7b64e2036": {
     "model_module": "@jupyter-widgets/controls",
     "model_module_version": "1.5.0",
     "model_name": "DescriptionStyleModel",
     "state": {
      "_model_module": "@jupyter-widgets/controls",
      "_model_module_version": "1.5.0",
      "_model_name": "DescriptionStyleModel",
      "_view_count": null,
      "_view_module": "@jupyter-widgets/base",
      "_view_module_version": "1.2.0",
      "_view_name": "StyleView",
      "description_width": ""
     }
    },
    "790d4117a5c3479ca29cba5183689fc8": {
     "model_module": "@jupyter-widgets/base",
     "model_module_version": "1.2.0",
     "model_name": "LayoutModel",
     "state": {
      "_model_module": "@jupyter-widgets/base",
      "_model_module_version": "1.2.0",
      "_model_name": "LayoutModel",
      "_view_count": null,
      "_view_module": "@jupyter-widgets/base",
      "_view_module_version": "1.2.0",
      "_view_name": "LayoutView",
      "align_content": null,
      "align_items": null,
      "align_self": null,
      "border": null,
      "bottom": null,
      "display": "inline-flex",
      "flex": null,
      "flex_flow": "row wrap",
      "grid_area": null,
      "grid_auto_columns": null,
      "grid_auto_flow": null,
      "grid_auto_rows": null,
      "grid_column": null,
      "grid_gap": null,
      "grid_row": null,
      "grid_template_areas": null,
      "grid_template_columns": null,
      "grid_template_rows": null,
      "height": null,
      "justify_content": null,
      "justify_items": null,
      "left": null,
      "margin": null,
      "max_height": null,
      "max_width": null,
      "min_height": null,
      "min_width": null,
      "object_fit": null,
      "object_position": null,
      "order": null,
      "overflow": null,
      "overflow_x": null,
      "overflow_y": null,
      "padding": null,
      "right": null,
      "top": null,
      "visibility": null,
      "width": "100%"
     }
    },
    "821e3c31581e49669b3d7ce501ccef31": {
     "model_module": "@jupyter-widgets/base",
     "model_module_version": "1.2.0",
     "model_name": "LayoutModel",
     "state": {
      "_model_module": "@jupyter-widgets/base",
      "_model_module_version": "1.2.0",
      "_model_name": "LayoutModel",
      "_view_count": null,
      "_view_module": "@jupyter-widgets/base",
      "_view_module_version": "1.2.0",
      "_view_name": "LayoutView",
      "align_content": null,
      "align_items": null,
      "align_self": null,
      "border": null,
      "bottom": null,
      "display": null,
      "flex": "2",
      "flex_flow": null,
      "grid_area": null,
      "grid_auto_columns": null,
      "grid_auto_flow": null,
      "grid_auto_rows": null,
      "grid_column": null,
      "grid_gap": null,
      "grid_row": null,
      "grid_template_areas": null,
      "grid_template_columns": null,
      "grid_template_rows": null,
      "height": null,
      "justify_content": null,
      "justify_items": null,
      "left": null,
      "margin": null,
      "max_height": null,
      "max_width": null,
      "min_height": null,
      "min_width": null,
      "object_fit": null,
      "object_position": null,
      "order": null,
      "overflow": null,
      "overflow_x": null,
      "overflow_y": null,
      "padding": null,
      "right": null,
      "top": null,
      "visibility": null,
      "width": null
     }
    },
    "83cc07805730435e9fca3cf6dc6f150e": {
     "model_module": "@jupyter-widgets/controls",
     "model_module_version": "1.5.0",
     "model_name": "HTMLModel",
     "state": {
      "_dom_classes": [],
      "_model_module": "@jupyter-widgets/controls",
      "_model_module_version": "1.5.0",
      "_model_name": "HTMLModel",
      "_view_count": null,
      "_view_module": "@jupyter-widgets/controls",
      "_view_module_version": "1.5.0",
      "_view_name": "HTMLView",
      "description": "",
      "description_tooltip": null,
      "layout": "IPY_MODEL_e7eac32e18634d7c8c39f455dcf90972",
      "placeholder": "​",
      "style": "IPY_MODEL_700da27600f1429e82f9baa7b64e2036",
      "value": "Epoch 1:  85%"
     }
    },
    "85a0a23affb340d7b8d898e63fa5f557": {
     "model_module": "@jupyter-widgets/controls",
     "model_module_version": "1.5.0",
     "model_name": "FloatProgressModel",
     "state": {
      "_dom_classes": [],
      "_model_module": "@jupyter-widgets/controls",
      "_model_module_version": "1.5.0",
      "_model_name": "FloatProgressModel",
      "_view_count": null,
      "_view_module": "@jupyter-widgets/controls",
      "_view_module_version": "1.5.0",
      "_view_name": "ProgressView",
      "bar_style": "",
      "description": "",
      "description_tooltip": null,
      "layout": "IPY_MODEL_52149df1e72741579b1619f294e83ec8",
      "max": 1,
      "min": 0,
      "orientation": "horizontal",
      "style": "IPY_MODEL_4550147f6a2b436b8b9844baefc9fd46",
      "value": 1
     }
    },
    "8df0f7f44d2e4992b342befae8b8a077": {
     "model_module": "@jupyter-widgets/base",
     "model_module_version": "1.2.0",
     "model_name": "LayoutModel",
     "state": {
      "_model_module": "@jupyter-widgets/base",
      "_model_module_version": "1.2.0",
      "_model_name": "LayoutModel",
      "_view_count": null,
      "_view_module": "@jupyter-widgets/base",
      "_view_module_version": "1.2.0",
      "_view_name": "LayoutView",
      "align_content": null,
      "align_items": null,
      "align_self": null,
      "border": null,
      "bottom": null,
      "display": "inline-flex",
      "flex": null,
      "flex_flow": "row wrap",
      "grid_area": null,
      "grid_auto_columns": null,
      "grid_auto_flow": null,
      "grid_auto_rows": null,
      "grid_column": null,
      "grid_gap": null,
      "grid_row": null,
      "grid_template_areas": null,
      "grid_template_columns": null,
      "grid_template_rows": null,
      "height": null,
      "justify_content": null,
      "justify_items": null,
      "left": null,
      "margin": null,
      "max_height": null,
      "max_width": null,
      "min_height": null,
      "min_width": null,
      "object_fit": null,
      "object_position": null,
      "order": null,
      "overflow": null,
      "overflow_x": null,
      "overflow_y": null,
      "padding": null,
      "right": null,
      "top": null,
      "visibility": "hidden",
      "width": "100%"
     }
    },
    "a0e7545b1c274cd18ea0fb9e076c2a05": {
     "model_module": "@jupyter-widgets/base",
     "model_module_version": "1.2.0",
     "model_name": "LayoutModel",
     "state": {
      "_model_module": "@jupyter-widgets/base",
      "_model_module_version": "1.2.0",
      "_model_name": "LayoutModel",
      "_view_count": null,
      "_view_module": "@jupyter-widgets/base",
      "_view_module_version": "1.2.0",
      "_view_name": "LayoutView",
      "align_content": null,
      "align_items": null,
      "align_self": null,
      "border": null,
      "bottom": null,
      "display": null,
      "flex": "2",
      "flex_flow": null,
      "grid_area": null,
      "grid_auto_columns": null,
      "grid_auto_flow": null,
      "grid_auto_rows": null,
      "grid_column": null,
      "grid_gap": null,
      "grid_row": null,
      "grid_template_areas": null,
      "grid_template_columns": null,
      "grid_template_rows": null,
      "height": null,
      "justify_content": null,
      "justify_items": null,
      "left": null,
      "margin": null,
      "max_height": null,
      "max_width": null,
      "min_height": null,
      "min_width": null,
      "object_fit": null,
      "object_position": null,
      "order": null,
      "overflow": null,
      "overflow_x": null,
      "overflow_y": null,
      "padding": null,
      "right": null,
      "top": null,
      "visibility": null,
      "width": null
     }
    },
    "a898b420cfb44481999793e99e21bbee": {
     "model_module": "@jupyter-widgets/base",
     "model_module_version": "1.2.0",
     "model_name": "LayoutModel",
     "state": {
      "_model_module": "@jupyter-widgets/base",
      "_model_module_version": "1.2.0",
      "_model_name": "LayoutModel",
      "_view_count": null,
      "_view_module": "@jupyter-widgets/base",
      "_view_module_version": "1.2.0",
      "_view_name": "LayoutView",
      "align_content": null,
      "align_items": null,
      "align_self": null,
      "border": null,
      "bottom": null,
      "display": null,
      "flex": null,
      "flex_flow": null,
      "grid_area": null,
      "grid_auto_columns": null,
      "grid_auto_flow": null,
      "grid_auto_rows": null,
      "grid_column": null,
      "grid_gap": null,
      "grid_row": null,
      "grid_template_areas": null,
      "grid_template_columns": null,
      "grid_template_rows": null,
      "height": null,
      "justify_content": null,
      "justify_items": null,
      "left": null,
      "margin": null,
      "max_height": null,
      "max_width": null,
      "min_height": null,
      "min_width": null,
      "object_fit": null,
      "object_position": null,
      "order": null,
      "overflow": null,
      "overflow_x": null,
      "overflow_y": null,
      "padding": null,
      "right": null,
      "top": null,
      "visibility": null,
      "width": null
     }
    },
    "a92269624b9a4bd5b0912e49d9d7d93d": {
     "model_module": "@jupyter-widgets/controls",
     "model_module_version": "1.5.0",
     "model_name": "FloatProgressModel",
     "state": {
      "_dom_classes": [],
      "_model_module": "@jupyter-widgets/controls",
      "_model_module_version": "1.5.0",
      "_model_name": "FloatProgressModel",
      "_view_count": null,
      "_view_module": "@jupyter-widgets/controls",
      "_view_module_version": "1.5.0",
      "_view_name": "ProgressView",
      "bar_style": "",
      "description": "",
      "description_tooltip": null,
      "layout": "IPY_MODEL_a0e7545b1c274cd18ea0fb9e076c2a05",
      "max": 1,
      "min": 0,
      "orientation": "horizontal",
      "style": "IPY_MODEL_ec55cbbf820549108312baf6df5e5687",
      "value": 1
     }
    },
    "b224961199794bfca4ea5b60ede12bfa": {
     "model_module": "@jupyter-widgets/controls",
     "model_module_version": "1.5.0",
     "model_name": "DescriptionStyleModel",
     "state": {
      "_model_module": "@jupyter-widgets/controls",
      "_model_module_version": "1.5.0",
      "_model_name": "DescriptionStyleModel",
      "_view_count": null,
      "_view_module": "@jupyter-widgets/base",
      "_view_module_version": "1.2.0",
      "_view_name": "StyleView",
      "description_width": ""
     }
    },
    "b25a618e06604cdf9f997b20526fb61f": {
     "model_module": "@jupyter-widgets/controls",
     "model_module_version": "1.5.0",
     "model_name": "HTMLModel",
     "state": {
      "_dom_classes": [],
      "_model_module": "@jupyter-widgets/controls",
      "_model_module_version": "1.5.0",
      "_model_name": "HTMLModel",
      "_view_count": null,
      "_view_module": "@jupyter-widgets/controls",
      "_view_module_version": "1.5.0",
      "_view_name": "HTMLView",
      "description": "",
      "description_tooltip": null,
      "layout": "IPY_MODEL_1e9f5c28e9074d07a865d35826329ac7",
      "placeholder": "​",
      "style": "IPY_MODEL_b224961199794bfca4ea5b60ede12bfa",
      "value": "Validation DataLoader 0: 100%"
     }
    },
    "b740b7f7e88a4e23b103630fcc25eaba": {
     "model_module": "@jupyter-widgets/controls",
     "model_module_version": "1.5.0",
     "model_name": "DescriptionStyleModel",
     "state": {
      "_model_module": "@jupyter-widgets/controls",
      "_model_module_version": "1.5.0",
      "_model_name": "DescriptionStyleModel",
      "_view_count": null,
      "_view_module": "@jupyter-widgets/base",
      "_view_module_version": "1.2.0",
      "_view_name": "StyleView",
      "description_width": ""
     }
    },
    "c5d870268cdd4a6b971cea012180f631": {
     "model_module": "@jupyter-widgets/controls",
     "model_module_version": "1.5.0",
     "model_name": "HBoxModel",
     "state": {
      "_dom_classes": [],
      "_model_module": "@jupyter-widgets/controls",
      "_model_module_version": "1.5.0",
      "_model_name": "HBoxModel",
      "_view_count": null,
      "_view_module": "@jupyter-widgets/controls",
      "_view_module_version": "1.5.0",
      "_view_name": "HBoxView",
      "box_style": "",
      "children": [
       "IPY_MODEL_83cc07805730435e9fca3cf6dc6f150e",
       "IPY_MODEL_2a3ed50bdc8244479ce52fdc3b8b5013",
       "IPY_MODEL_fe4822c6a42b4913b0dd6ca1b2fb9f5d"
      ],
      "layout": "IPY_MODEL_790d4117a5c3479ca29cba5183689fc8"
     }
    },
    "c6c5c5c3d2c1487da9f95120bc300825": {
     "model_module": "@jupyter-widgets/controls",
     "model_module_version": "1.5.0",
     "model_name": "HBoxModel",
     "state": {
      "_dom_classes": [],
      "_model_module": "@jupyter-widgets/controls",
      "_model_module_version": "1.5.0",
      "_model_name": "HBoxModel",
      "_view_count": null,
      "_view_module": "@jupyter-widgets/controls",
      "_view_module_version": "1.5.0",
      "_view_name": "HBoxView",
      "box_style": "",
      "children": [
       "IPY_MODEL_62a271c5769049c79fe2f7e2d561a7f4",
       "IPY_MODEL_a92269624b9a4bd5b0912e49d9d7d93d",
       "IPY_MODEL_0eef27efa8af4c54ab2af711a45e6f50"
      ],
      "layout": "IPY_MODEL_8df0f7f44d2e4992b342befae8b8a077"
     }
    },
    "d3e0782e1ca446cb83f4dfcecf74265b": {
     "model_module": "@jupyter-widgets/controls",
     "model_module_version": "1.5.0",
     "model_name": "DescriptionStyleModel",
     "state": {
      "_model_module": "@jupyter-widgets/controls",
      "_model_module_version": "1.5.0",
      "_model_name": "DescriptionStyleModel",
      "_view_count": null,
      "_view_module": "@jupyter-widgets/base",
      "_view_module_version": "1.2.0",
      "_view_name": "StyleView",
      "description_width": ""
     }
    },
    "d8d8947ef00e4455aeb592aa21f5273b": {
     "model_module": "@jupyter-widgets/base",
     "model_module_version": "1.2.0",
     "model_name": "LayoutModel",
     "state": {
      "_model_module": "@jupyter-widgets/base",
      "_model_module_version": "1.2.0",
      "_model_name": "LayoutModel",
      "_view_count": null,
      "_view_module": "@jupyter-widgets/base",
      "_view_module_version": "1.2.0",
      "_view_name": "LayoutView",
      "align_content": null,
      "align_items": null,
      "align_self": null,
      "border": null,
      "bottom": null,
      "display": null,
      "flex": null,
      "flex_flow": null,
      "grid_area": null,
      "grid_auto_columns": null,
      "grid_auto_flow": null,
      "grid_auto_rows": null,
      "grid_column": null,
      "grid_gap": null,
      "grid_row": null,
      "grid_template_areas": null,
      "grid_template_columns": null,
      "grid_template_rows": null,
      "height": null,
      "justify_content": null,
      "justify_items": null,
      "left": null,
      "margin": null,
      "max_height": null,
      "max_width": null,
      "min_height": null,
      "min_width": null,
      "object_fit": null,
      "object_position": null,
      "order": null,
      "overflow": null,
      "overflow_x": null,
      "overflow_y": null,
      "padding": null,
      "right": null,
      "top": null,
      "visibility": null,
      "width": null
     }
    },
    "e7eac32e18634d7c8c39f455dcf90972": {
     "model_module": "@jupyter-widgets/base",
     "model_module_version": "1.2.0",
     "model_name": "LayoutModel",
     "state": {
      "_model_module": "@jupyter-widgets/base",
      "_model_module_version": "1.2.0",
      "_model_name": "LayoutModel",
      "_view_count": null,
      "_view_module": "@jupyter-widgets/base",
      "_view_module_version": "1.2.0",
      "_view_name": "LayoutView",
      "align_content": null,
      "align_items": null,
      "align_self": null,
      "border": null,
      "bottom": null,
      "display": null,
      "flex": null,
      "flex_flow": null,
      "grid_area": null,
      "grid_auto_columns": null,
      "grid_auto_flow": null,
      "grid_auto_rows": null,
      "grid_column": null,
      "grid_gap": null,
      "grid_row": null,
      "grid_template_areas": null,
      "grid_template_columns": null,
      "grid_template_rows": null,
      "height": null,
      "justify_content": null,
      "justify_items": null,
      "left": null,
      "margin": null,
      "max_height": null,
      "max_width": null,
      "min_height": null,
      "min_width": null,
      "object_fit": null,
      "object_position": null,
      "order": null,
      "overflow": null,
      "overflow_x": null,
      "overflow_y": null,
      "padding": null,
      "right": null,
      "top": null,
      "visibility": null,
      "width": null
     }
    },
    "ec55cbbf820549108312baf6df5e5687": {
     "model_module": "@jupyter-widgets/controls",
     "model_module_version": "1.5.0",
     "model_name": "ProgressStyleModel",
     "state": {
      "_model_module": "@jupyter-widgets/controls",
      "_model_module_version": "1.5.0",
      "_model_name": "ProgressStyleModel",
      "_view_count": null,
      "_view_module": "@jupyter-widgets/base",
      "_view_module_version": "1.2.0",
      "_view_name": "StyleView",
      "bar_color": null,
      "description_width": ""
     }
    },
    "fe4822c6a42b4913b0dd6ca1b2fb9f5d": {
     "model_module": "@jupyter-widgets/controls",
     "model_module_version": "1.5.0",
     "model_name": "HTMLModel",
     "state": {
      "_dom_classes": [],
      "_model_module": "@jupyter-widgets/controls",
      "_model_module_version": "1.5.0",
      "_model_name": "HTMLModel",
      "_view_count": null,
      "_view_module": "@jupyter-widgets/controls",
      "_view_module_version": "1.5.0",
      "_view_name": "HTMLView",
      "description": "",
      "description_tooltip": null,
      "layout": "IPY_MODEL_4f63c469934d4ec0b621fe5896adc281",
      "placeholder": "​",
      "style": "IPY_MODEL_0be636d229d74def899f54d11dcfa86e",
      "value": " 620/733 [02:15&lt;00:24,  4.56it/s, train_loss=2.240, train_acc=0.399, val_loss=2.340, val_acc=0.159]"
     }
    }
   }
  }
 },
 "nbformat": 4,
 "nbformat_minor": 4
}
